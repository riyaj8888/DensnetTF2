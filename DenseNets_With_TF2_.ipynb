{
  "nbformat": 4,
  "nbformat_minor": 0,
  "metadata": {
    "colab": {
      "name": "DenseNets_With_TF2..ipynb",
      "provenance": [],
      "collapsed_sections": []
    },
    "kernelspec": {
      "name": "python3",
      "display_name": "Python 3"
    },
    "language_info": {
      "name": "python"
    },
    "accelerator": "GPU"
  },
  "cells": [
    {
      "cell_type": "code",
      "metadata": {
        "id": "tU4YeCbKDchv"
      },
      "source": [
        "\n",
        "import tensorflow as tf\n",
        "import numpy as np\n",
        "import os\n",
        "from tensorflow.keras.layers import *"
      ],
      "execution_count": 1,
      "outputs": []
    },
    {
      "cell_type": "code",
      "metadata": {
        "id": "7WsK6-YcDjm9"
      },
      "source": [
        "class H_x(tf.keras.layers.Layer):\n",
        "\n",
        "  def __init__(self,num_filter=None,drop_rate = None ):\n",
        "    super(H_x,self).__init__()\n",
        "    \n",
        "    self.bn1 = BatchNormalization()\n",
        "    self.act1 = Activation('relu')\n",
        "    self.conv1 = Conv2D(filters = num_filter,kernel_size=3,padding='same')\n",
        "    self.drop = Dropout(rate = drop_rate)\n",
        "\n",
        "  def call(self,x):\n",
        "\n",
        "    x = self.bn1(x)\n",
        "    x = self.act1(x)\n",
        "    x = self.conv1(x)\n",
        "    x = self.drop(x)\n",
        "\n",
        "    return x"
      ],
      "execution_count": 25,
      "outputs": []
    },
    {
      "cell_type": "code",
      "metadata": {
        "id": "HzrSuwEDDpDv"
      },
      "source": [
        "class Transition_Block(tf.keras.layers.Layer):\n",
        "\n",
        "  def __init__(self,drop_rate=None,projection = None,c_rate = None):\n",
        "\n",
        "    super(Transition_Block,self).__init__()\n",
        "    self.projection = projection\n",
        "    self.c_rate = c_rate\n",
        "    self.bn = BatchNormalization()\n",
        "    self.act = Activation('relu')\n",
        "    self.conv = Conv2D(filters = np.int(self.projection*self.c_rate),kernel_size = 1,strides = 2,padding='same')\n",
        "    self.drop = Dropout(rate = drop_rate)\n",
        "    \n",
        "\n",
        "  def call(self,x):\n",
        "    \n",
        "    m = x.shape[3]\n",
        "    self.projection = m \n",
        "    x = self.bn(x)\n",
        "    x = self.act(x)\n",
        "    x = self.conv(x)\n",
        "    x = self.drop(x)\n",
        "\n",
        "\n",
        "    return x"
      ],
      "execution_count": 26,
      "outputs": []
    },
    {
      "cell_type": "code",
      "metadata": {
        "id": "Oc4Uc4pdDpzc"
      },
      "source": [
        "\n",
        "class dense_block(tf.keras.layers.Layer):\n",
        "\n",
        "  def __init__(self,num_of_layer=None,num_filters=None,growth_rate=None,drop_rate = None):\n",
        "\n",
        "    super(dense_block,self).__init__()\n",
        "\n",
        "    self.num_filter = num_filters\n",
        "\n",
        "    self.growth_rate = growth_rate\n",
        "\n",
        "\n",
        "  def call(self,x):\n",
        "\n",
        "    for i in range(num_of_layer):\n",
        "\n",
        "      y =  H_x(num_filter=self.num_filter,drop_rate = drop_rate )(x)\n",
        "\n",
        "      x = Concatenate()([y,x])\n",
        "\n",
        "      self.num_filter = self.num_filter + self.growth_rate\n",
        "\n",
        "\n",
        "    return x\n"
      ],
      "execution_count": 27,
      "outputs": []
    },
    {
      "cell_type": "code",
      "metadata": {
        "id": "dbLL0u8WDvAA"
      },
      "source": [
        "class classifier(tf.keras.layers.Layer):\n",
        "\n",
        "  def __init__(self,num_class=None,fc_unit=None):\n",
        "    super(classifier,self).__init__()\n",
        "\n",
        "    self.pool = GlobalAveragePooling2D()\n",
        "    self.dense = Dense(fc_unit,activation='relu')\n",
        "    self.dropout = Dropout(0.45)\n",
        "    self.class_logits = Dense(num_class)\n",
        "\n",
        "  def call(self,x):\n",
        "\n",
        "    x = self.pool(x)\n",
        "    x = self.dense(x)\n",
        "    x = self.dropout(x)\n",
        "    x = self.class_logits(x)\n",
        "\n",
        "    return x"
      ],
      "execution_count": 28,
      "outputs": []
    },
    {
      "cell_type": "code",
      "metadata": {
        "id": "QU1G87kKDzpZ"
      },
      "source": [
        "def  Densnet_model(shape=(None,None,None),num_of_block = None,num_of_layer=None,growth_rate=None,num_class = None,fc_unit=None,drop_rate=None):\n",
        "                   \n",
        "  X = Input(shape=shape)\n",
        "  x = Conv2D(32,3,padding = 'same')(X)\n",
        "  x = BatchNormalization()(x)\n",
        "  x = ReLU()(x)\n",
        "  c_rate = 0.75\n",
        "  growth_rate = growth_rate\n",
        "\n",
        "  for i in range(num_of_block):\n",
        "\n",
        "    x = dense_block(num_of_layer=num_of_layer,num_filters=64,growth_rate=growth_rate,drop_rate = drop_rate)(x)\n",
        "\n",
        "    num_filter = x.shape[3]\n",
        "\n",
        "    x = Transition_Block(drop_rate=0.4,projection = num_filter,c_rate = c_rate)(x)\n",
        "\n",
        "  y = classifier(num_class = num_class,fc_unit =fc_unit)(x)\n",
        "\n",
        "  model = tf.keras.models.Model(inputs = X,outputs = y)\n",
        "\n",
        "  model.summary()\n",
        "\n",
        "  return model \n",
        "\n"
      ],
      "execution_count": 34,
      "outputs": []
    },
    {
      "cell_type": "code",
      "metadata": {
        "colab": {
          "base_uri": "https://localhost:8080/"
        },
        "id": "hf86m6hdD0vw",
        "outputId": "f465b04a-c295-446c-8e4b-fb6013fa3357"
      },
      "source": [
        "num_of_layer = 4\n",
        "num_of_block = 7\n",
        "fc_unit = 1024\n",
        "num_class = 121\n",
        "growth_rate = 16 \n",
        "drop_rate = 0.4\n",
        "model = Densnet_model(shape=(224,224,3),num_of_block = num_of_block,num_of_layer=num_of_layer,growth_rate=growth_rate,num_class = num_class,fc_unit=fc_unit,drop_rate=drop_rate)\n"
      ],
      "execution_count": 35,
      "outputs": [
        {
          "output_type": "stream",
          "text": [
            "Model: \"model_4\"\n",
            "_________________________________________________________________\n",
            "Layer (type)                 Output Shape              Param #   \n",
            "=================================================================\n",
            "input_15 (InputLayer)        [(None, 224, 224, 3)]     0         \n",
            "_________________________________________________________________\n",
            "conv2d_37 (Conv2D)           (None, 224, 224, 32)      896       \n",
            "_________________________________________________________________\n",
            "batch_normalization_37 (Batc (None, 224, 224, 32)      128       \n",
            "_________________________________________________________________\n",
            "re_lu_14 (ReLU)              (None, 224, 224, 32)      0         \n",
            "_________________________________________________________________\n",
            "dense_block_32 (dense_block) (None, 224, 224, 384)     0         \n",
            "_________________________________________________________________\n",
            "transition__block_23 (Transi (None, 112, 112, 288)     112416    \n",
            "_________________________________________________________________\n",
            "dense_block_33 (dense_block) (None, 112, 112, 640)     0         \n",
            "_________________________________________________________________\n",
            "transition__block_24 (Transi (None, 56, 56, 480)       310240    \n",
            "_________________________________________________________________\n",
            "dense_block_34 (dense_block) (None, 56, 56, 832)       0         \n",
            "_________________________________________________________________\n",
            "transition__block_25 (Transi (None, 28, 28, 624)       523120    \n",
            "_________________________________________________________________\n",
            "dense_block_35 (dense_block) (None, 28, 28, 976)       0         \n",
            "_________________________________________________________________\n",
            "transition__block_26 (Transi (None, 14, 14, 732)       719068    \n",
            "_________________________________________________________________\n",
            "dense_block_36 (dense_block) (None, 14, 14, 1084)      0         \n",
            "_________________________________________________________________\n",
            "transition__block_27 (Transi (None, 7, 7, 813)         886441    \n",
            "_________________________________________________________________\n",
            "dense_block_37 (dense_block) (None, 7, 7, 1165)        0         \n",
            "_________________________________________________________________\n",
            "transition__block_28 (Transi (None, 4, 4, 873)         1022578   \n",
            "_________________________________________________________________\n",
            "dense_block_38 (dense_block) (None, 4, 4, 1225)        0         \n",
            "_________________________________________________________________\n",
            "transition__block_29 (Transi (None, 2, 2, 918)         1130368   \n",
            "_________________________________________________________________\n",
            "classifier_4 (classifier)    (None, 121)               1065081   \n",
            "=================================================================\n",
            "Total params: 5,770,336\n",
            "Trainable params: 5,757,660\n",
            "Non-trainable params: 12,676\n",
            "_________________________________________________________________\n"
          ],
          "name": "stdout"
        }
      ]
    }
  ]
}